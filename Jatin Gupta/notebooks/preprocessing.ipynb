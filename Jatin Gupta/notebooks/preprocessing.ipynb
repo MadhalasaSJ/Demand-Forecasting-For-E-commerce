{
 "cells": [
  {
   "cell_type": "markdown",
   "metadata": {},
   "source": [
    "# Importing Libraries & datasets"
   ]
  },
  {
   "cell_type": "code",
   "execution_count": 1,
   "metadata": {},
   "outputs": [],
   "source": [
    "import warnings\n",
    "warnings.filterwarnings('ignore')\n",
    "\n",
    "import numpy as np\n",
    "import pandas as pd\n",
    "import matplotlib.pyplot as plt"
   ]
  },
  {
   "cell_type": "code",
   "execution_count": 2,
   "metadata": {},
   "outputs": [],
   "source": [
    "df1 = pd.read_excel(\"..\\dataset\\ProductA.xlsx\")\n",
    "df2 = pd.read_excel(\"..\\dataset\\ProductA_google_clicks.xlsx\")\n",
    "df3 = pd.read_excel(\"..\\dataset\\ProductA_fb_impressions.xlsx\")"
   ]
  },
  {
   "cell_type": "markdown",
   "metadata": {},
   "source": [
    "# Data Preprocessing"
   ]
  },
  {
   "cell_type": "markdown",
   "metadata": {},
   "source": [
    "### Merging datasets"
   ]
  },
  {
   "cell_type": "code",
   "execution_count": 3,
   "metadata": {},
   "outputs": [],
   "source": [
    "df4 = pd.merge(df1, df2, on=\"Day Index\", how=\"left\")        # left joined\n",
    "df = pd.merge(df4, df3, on=\"Day Index\", how=\"left\")"
   ]
  },
  {
   "cell_type": "code",
   "execution_count": 4,
   "metadata": {},
   "outputs": [
    {
     "data": {
      "text/html": [
       "<div>\n",
       "<style scoped>\n",
       "    .dataframe tbody tr th:only-of-type {\n",
       "        vertical-align: middle;\n",
       "    }\n",
       "\n",
       "    .dataframe tbody tr th {\n",
       "        vertical-align: top;\n",
       "    }\n",
       "\n",
       "    .dataframe thead th {\n",
       "        text-align: right;\n",
       "    }\n",
       "</style>\n",
       "<table border=\"1\" class=\"dataframe\">\n",
       "  <thead>\n",
       "    <tr style=\"text-align: right;\">\n",
       "      <th></th>\n",
       "      <th>Day Index</th>\n",
       "      <th>Quantity</th>\n",
       "      <th>Clicks</th>\n",
       "      <th>Impressions</th>\n",
       "    </tr>\n",
       "  </thead>\n",
       "  <tbody>\n",
       "    <tr>\n",
       "      <th>0</th>\n",
       "      <td>2021-12-01</td>\n",
       "      <td>14</td>\n",
       "      <td>445</td>\n",
       "      <td>620</td>\n",
       "    </tr>\n",
       "    <tr>\n",
       "      <th>1</th>\n",
       "      <td>2021-12-02</td>\n",
       "      <td>10</td>\n",
       "      <td>433</td>\n",
       "      <td>890</td>\n",
       "    </tr>\n",
       "    <tr>\n",
       "      <th>2</th>\n",
       "      <td>2021-12-03</td>\n",
       "      <td>13</td>\n",
       "      <td>424</td>\n",
       "      <td>851</td>\n",
       "    </tr>\n",
       "    <tr>\n",
       "      <th>3</th>\n",
       "      <td>2021-12-04</td>\n",
       "      <td>22</td>\n",
       "      <td>427</td>\n",
       "      <td>881</td>\n",
       "    </tr>\n",
       "    <tr>\n",
       "      <th>4</th>\n",
       "      <td>2021-12-05</td>\n",
       "      <td>33</td>\n",
       "      <td>451</td>\n",
       "      <td>678</td>\n",
       "    </tr>\n",
       "  </tbody>\n",
       "</table>\n",
       "</div>"
      ],
      "text/plain": [
       "   Day Index  Quantity  Clicks  Impressions\n",
       "0 2021-12-01        14     445          620\n",
       "1 2021-12-02        10     433          890\n",
       "2 2021-12-03        13     424          851\n",
       "3 2021-12-04        22     427          881\n",
       "4 2021-12-05        33     451          678"
      ]
     },
     "execution_count": 4,
     "metadata": {},
     "output_type": "execute_result"
    }
   ],
   "source": [
    "df.head()"
   ]
  },
  {
   "cell_type": "markdown",
   "metadata": {},
   "source": [
    "### Descriptive Statistics"
   ]
  },
  {
   "cell_type": "code",
   "execution_count": 5,
   "metadata": {},
   "outputs": [
    {
     "data": {
      "text/plain": [
       "(212, 4)"
      ]
     },
     "execution_count": 5,
     "metadata": {},
     "output_type": "execute_result"
    }
   ],
   "source": [
    "df.shape"
   ]
  },
  {
   "cell_type": "markdown",
   "metadata": {},
   "source": [
    "| Rows | Columns |\n",
    "|------|---------|\n",
    "| 212  | 4       |\n"
   ]
  },
  {
   "cell_type": "code",
   "execution_count": 6,
   "metadata": {},
   "outputs": [
    {
     "name": "stdout",
     "output_type": "stream",
     "text": [
      "<class 'pandas.core.frame.DataFrame'>\n",
      "RangeIndex: 212 entries, 0 to 211\n",
      "Data columns (total 4 columns):\n",
      " #   Column       Non-Null Count  Dtype         \n",
      "---  ------       --------------  -----         \n",
      " 0   Day Index    212 non-null    datetime64[ns]\n",
      " 1   Quantity     212 non-null    int64         \n",
      " 2   Clicks       212 non-null    int64         \n",
      " 3   Impressions  212 non-null    int64         \n",
      "dtypes: datetime64[ns](1), int64(3)\n",
      "memory usage: 6.8 KB\n"
     ]
    }
   ],
   "source": [
    "df.info()"
   ]
  },
  {
   "cell_type": "code",
   "execution_count": 7,
   "metadata": {},
   "outputs": [
    {
     "data": {
      "text/html": [
       "<div>\n",
       "<style scoped>\n",
       "    .dataframe tbody tr th:only-of-type {\n",
       "        vertical-align: middle;\n",
       "    }\n",
       "\n",
       "    .dataframe tbody tr th {\n",
       "        vertical-align: top;\n",
       "    }\n",
       "\n",
       "    .dataframe thead th {\n",
       "        text-align: right;\n",
       "    }\n",
       "</style>\n",
       "<table border=\"1\" class=\"dataframe\">\n",
       "  <thead>\n",
       "    <tr style=\"text-align: right;\">\n",
       "      <th></th>\n",
       "      <th>Day Index</th>\n",
       "      <th>Quantity</th>\n",
       "      <th>Clicks</th>\n",
       "      <th>Impressions</th>\n",
       "    </tr>\n",
       "  </thead>\n",
       "  <tbody>\n",
       "    <tr>\n",
       "      <th>count</th>\n",
       "      <td>212</td>\n",
       "      <td>212.000000</td>\n",
       "      <td>212.00000</td>\n",
       "      <td>212.000000</td>\n",
       "    </tr>\n",
       "    <tr>\n",
       "      <th>mean</th>\n",
       "      <td>2022-03-16 12:00:00</td>\n",
       "      <td>17.542453</td>\n",
       "      <td>358.20283</td>\n",
       "      <td>1531.702830</td>\n",
       "    </tr>\n",
       "    <tr>\n",
       "      <th>min</th>\n",
       "      <td>2021-12-01 00:00:00</td>\n",
       "      <td>5.000000</td>\n",
       "      <td>60.00000</td>\n",
       "      <td>620.000000</td>\n",
       "    </tr>\n",
       "    <tr>\n",
       "      <th>25%</th>\n",
       "      <td>2022-01-22 18:00:00</td>\n",
       "      <td>13.750000</td>\n",
       "      <td>154.00000</td>\n",
       "      <td>1209.750000</td>\n",
       "    </tr>\n",
       "    <tr>\n",
       "      <th>50%</th>\n",
       "      <td>2022-03-16 12:00:00</td>\n",
       "      <td>17.000000</td>\n",
       "      <td>402.50000</td>\n",
       "      <td>1460.000000</td>\n",
       "    </tr>\n",
       "    <tr>\n",
       "      <th>75%</th>\n",
       "      <td>2022-05-08 06:00:00</td>\n",
       "      <td>21.000000</td>\n",
       "      <td>492.75000</td>\n",
       "      <td>1862.000000</td>\n",
       "    </tr>\n",
       "    <tr>\n",
       "      <th>max</th>\n",
       "      <td>2022-06-30 00:00:00</td>\n",
       "      <td>38.000000</td>\n",
       "      <td>726.00000</td>\n",
       "      <td>2707.000000</td>\n",
       "    </tr>\n",
       "    <tr>\n",
       "      <th>std</th>\n",
       "      <td>NaN</td>\n",
       "      <td>5.790423</td>\n",
       "      <td>164.52160</td>\n",
       "      <td>440.660783</td>\n",
       "    </tr>\n",
       "  </tbody>\n",
       "</table>\n",
       "</div>"
      ],
      "text/plain": [
       "                 Day Index    Quantity     Clicks  Impressions\n",
       "count                  212  212.000000  212.00000   212.000000\n",
       "mean   2022-03-16 12:00:00   17.542453  358.20283  1531.702830\n",
       "min    2021-12-01 00:00:00    5.000000   60.00000   620.000000\n",
       "25%    2022-01-22 18:00:00   13.750000  154.00000  1209.750000\n",
       "50%    2022-03-16 12:00:00   17.000000  402.50000  1460.000000\n",
       "75%    2022-05-08 06:00:00   21.000000  492.75000  1862.000000\n",
       "max    2022-06-30 00:00:00   38.000000  726.00000  2707.000000\n",
       "std                    NaN    5.790423  164.52160   440.660783"
      ]
     },
     "execution_count": 7,
     "metadata": {},
     "output_type": "execute_result"
    }
   ],
   "source": [
    "df.describe()"
   ]
  },
  {
   "cell_type": "markdown",
   "metadata": {},
   "source": [
    "### Missing values - Imputation"
   ]
  },
  {
   "cell_type": "code",
   "execution_count": 8,
   "metadata": {},
   "outputs": [
    {
     "name": "stdout",
     "output_type": "stream",
     "text": [
      "NULL Values:\n"
     ]
    },
    {
     "data": {
      "text/plain": [
       "Day Index      0\n",
       "Quantity       0\n",
       "Clicks         0\n",
       "Impressions    0\n",
       "dtype: int64"
      ]
     },
     "execution_count": 8,
     "metadata": {},
     "output_type": "execute_result"
    }
   ],
   "source": [
    "print(\"NULL Values:\")\n",
    "df.isnull().sum()"
   ]
  },
  {
   "cell_type": "markdown",
   "metadata": {},
   "source": [
    "Hence, there are no NULL values. So, No imputation needed."
   ]
  },
  {
   "cell_type": "markdown",
   "metadata": {},
   "source": [
    "### Dropping Duplicates"
   ]
  },
  {
   "cell_type": "code",
   "execution_count": 9,
   "metadata": {},
   "outputs": [
    {
     "data": {
      "text/plain": [
       "(212, 4)"
      ]
     },
     "execution_count": 9,
     "metadata": {},
     "output_type": "execute_result"
    }
   ],
   "source": [
    "df.shape"
   ]
  },
  {
   "cell_type": "code",
   "execution_count": 10,
   "metadata": {},
   "outputs": [
    {
     "data": {
      "text/html": [
       "<div>\n",
       "<style scoped>\n",
       "    .dataframe tbody tr th:only-of-type {\n",
       "        vertical-align: middle;\n",
       "    }\n",
       "\n",
       "    .dataframe tbody tr th {\n",
       "        vertical-align: top;\n",
       "    }\n",
       "\n",
       "    .dataframe thead th {\n",
       "        text-align: right;\n",
       "    }\n",
       "</style>\n",
       "<table border=\"1\" class=\"dataframe\">\n",
       "  <thead>\n",
       "    <tr style=\"text-align: right;\">\n",
       "      <th></th>\n",
       "      <th>Day Index</th>\n",
       "      <th>Quantity</th>\n",
       "      <th>Clicks</th>\n",
       "      <th>Impressions</th>\n",
       "    </tr>\n",
       "  </thead>\n",
       "  <tbody>\n",
       "    <tr>\n",
       "      <th>0</th>\n",
       "      <td>2021-12-01</td>\n",
       "      <td>14</td>\n",
       "      <td>445</td>\n",
       "      <td>620</td>\n",
       "    </tr>\n",
       "    <tr>\n",
       "      <th>1</th>\n",
       "      <td>2021-12-02</td>\n",
       "      <td>10</td>\n",
       "      <td>433</td>\n",
       "      <td>890</td>\n",
       "    </tr>\n",
       "    <tr>\n",
       "      <th>2</th>\n",
       "      <td>2021-12-03</td>\n",
       "      <td>13</td>\n",
       "      <td>424</td>\n",
       "      <td>851</td>\n",
       "    </tr>\n",
       "    <tr>\n",
       "      <th>3</th>\n",
       "      <td>2021-12-04</td>\n",
       "      <td>22</td>\n",
       "      <td>427</td>\n",
       "      <td>881</td>\n",
       "    </tr>\n",
       "    <tr>\n",
       "      <th>4</th>\n",
       "      <td>2021-12-05</td>\n",
       "      <td>33</td>\n",
       "      <td>451</td>\n",
       "      <td>678</td>\n",
       "    </tr>\n",
       "    <tr>\n",
       "      <th>...</th>\n",
       "      <td>...</td>\n",
       "      <td>...</td>\n",
       "      <td>...</td>\n",
       "      <td>...</td>\n",
       "    </tr>\n",
       "    <tr>\n",
       "      <th>207</th>\n",
       "      <td>2022-06-26</td>\n",
       "      <td>13</td>\n",
       "      <td>114</td>\n",
       "      <td>1218</td>\n",
       "    </tr>\n",
       "    <tr>\n",
       "      <th>208</th>\n",
       "      <td>2022-06-27</td>\n",
       "      <td>16</td>\n",
       "      <td>106</td>\n",
       "      <td>1311</td>\n",
       "    </tr>\n",
       "    <tr>\n",
       "      <th>209</th>\n",
       "      <td>2022-06-28</td>\n",
       "      <td>13</td>\n",
       "      <td>109</td>\n",
       "      <td>885</td>\n",
       "    </tr>\n",
       "    <tr>\n",
       "      <th>210</th>\n",
       "      <td>2022-06-29</td>\n",
       "      <td>16</td>\n",
       "      <td>60</td>\n",
       "      <td>1000</td>\n",
       "    </tr>\n",
       "    <tr>\n",
       "      <th>211</th>\n",
       "      <td>2022-06-30</td>\n",
       "      <td>8</td>\n",
       "      <td>65</td>\n",
       "      <td>875</td>\n",
       "    </tr>\n",
       "  </tbody>\n",
       "</table>\n",
       "<p>212 rows × 4 columns</p>\n",
       "</div>"
      ],
      "text/plain": [
       "     Day Index  Quantity  Clicks  Impressions\n",
       "0   2021-12-01        14     445          620\n",
       "1   2021-12-02        10     433          890\n",
       "2   2021-12-03        13     424          851\n",
       "3   2021-12-04        22     427          881\n",
       "4   2021-12-05        33     451          678\n",
       "..         ...       ...     ...          ...\n",
       "207 2022-06-26        13     114         1218\n",
       "208 2022-06-27        16     106         1311\n",
       "209 2022-06-28        13     109          885\n",
       "210 2022-06-29        16      60         1000\n",
       "211 2022-06-30         8      65          875\n",
       "\n",
       "[212 rows x 4 columns]"
      ]
     },
     "execution_count": 10,
     "metadata": {},
     "output_type": "execute_result"
    }
   ],
   "source": [
    "df.drop_duplicates()"
   ]
  },
  {
   "cell_type": "markdown",
   "metadata": {},
   "source": [
    "No row dropped after drop_duplicates() ! Hence, No duplicates found! "
   ]
  },
  {
   "cell_type": "markdown",
   "metadata": {},
   "source": [
    "\n",
    "### Analysing Outliers"
   ]
  },
  {
   "cell_type": "code",
   "execution_count": 11,
   "metadata": {},
   "outputs": [
    {
     "data": {
      "image/png": "[encoded data removed]",
      "text/plain": [
       "<Figure size 640x480 with 1 Axes>"
      ]
     },
     "metadata": {},
     "output_type": "display_data"
    }
   ],
   "source": [
    "plt.figure()\n",
    "df.boxplot()\n",
    "plt.show()"
   ]
  },
  {
   "cell_type": "code",
   "execution_count": 12,
   "metadata": {},
   "outputs": [
    {
     "name": "stdout",
     "output_type": "stream",
     "text": [
      "Outliers in each dependent attribute:\n",
      "Quantity:\t 5\n",
      "Clicks:\t\t 0\n",
      "Impressions:\t 0\n"
     ]
    }
   ],
   "source": [
    "def find_outliers_IQR(df):\n",
    "    q1=df.quantile(0.25)\n",
    "    q3=df.quantile(0.75)\n",
    "    IQR=q3-q1\n",
    "    outliers = df[((df<(q1-1.5*IQR)) | (df>(q3+1.5*IQR)))]\n",
    "    return outliers\n",
    "\n",
    "print(\"Outliers in each dependent attribute:\")\n",
    "print(f\"Quantity:\\t {len(find_outliers_IQR(df['Quantity']))}\")\n",
    "print(f\"Clicks:\\t\\t {len(find_outliers_IQR(df['Clicks']))}\")\n",
    "print(f\"Impressions:\\t {len(find_outliers_IQR(df['Impressions']))}\")"
   ]
  },
  {
   "cell_type": "markdown",
   "metadata": {},
   "source": [
    "So, there are 5 outliers in the *Quantity* attribute"
   ]
  },
  {
   "cell_type": "code",
   "execution_count": 13,
   "metadata": {},
   "outputs": [
    {
     "name": "stdout",
     "output_type": "stream",
     "text": [
      "Quantity:\n",
      "4      33\n",
      "9      38\n",
      "78     38\n",
      "113    32\n",
      "142    36\n",
      "Name: Quantity, dtype: int64\n"
     ]
    }
   ],
   "source": [
    "print(f\"Quantity:\\n{find_outliers_IQR(df['Quantity'])}\")"
   ]
  },
  {
   "cell_type": "markdown",
   "metadata": {},
   "source": [
    "***"
   ]
  },
  {
   "cell_type": "markdown",
   "metadata": {},
   "source": [
    "### Replacing Outliers with 97th percentile value"
   ]
  },
  {
   "cell_type": "code",
   "execution_count": 14,
   "metadata": {},
   "outputs": [
    {
     "name": "stdout",
     "output_type": "stream",
     "text": [
      "30.669999999999987\n"
     ]
    }
   ],
   "source": [
    "percentile_95_value = df[\"Quantity\"].quantile(0.97)\n",
    "print(percentile_95_value)"
   ]
  },
  {
   "cell_type": "code",
   "execution_count": 15,
   "metadata": {},
   "outputs": [],
   "source": [
    "def impute_outliers_97th_percentile(series):\n",
    "    q1, q3 = series.quantile([0.25, 0.75])\n",
    "    IQR = q3 - q1\n",
    "    lower_bound, upper_bound = q1 - 1.5 * IQR, q3 + 1.5 * IQR\n",
    "    percentile_95_value = series.quantile(0.97)\n",
    "    return series.apply(lambda x: percentile_95_value if x < lower_bound or x > upper_bound else x)"
   ]
  },
  {
   "cell_type": "code",
   "execution_count": 16,
   "metadata": {},
   "outputs": [],
   "source": [
    "df['imputed_Quantity'] = impute_outliers_97th_percentile(df['Quantity'])"
   ]
  },
  {
   "cell_type": "code",
   "execution_count": 17,
   "metadata": {},
   "outputs": [
    {
     "name": "stdout",
     "output_type": "stream",
     "text": [
      "Outliers in each dependent attribute:\n",
      "Quantity:\t 0\n"
     ]
    }
   ],
   "source": [
    "print(\"Outliers in each dependent attribute:\")\n",
    "print(f\"Quantity:\\t {len(find_outliers_IQR(df['imputed_Quantity']))}\")"
   ]
  },
  {
   "cell_type": "markdown",
   "metadata": {},
   "source": [
    "Hence, the outliers are replaced by 97th percentile values."
   ]
  },
  {
   "cell_type": "markdown",
   "metadata": {},
   "source": [
    "# Feature Engineering"
   ]
  },
  {
   "cell_type": "code",
   "execution_count": 18,
   "metadata": {},
   "outputs": [
    {
     "data": {
      "text/html": [
       "<div>\n",
       "<style scoped>\n",
       "    .dataframe tbody tr th:only-of-type {\n",
       "        vertical-align: middle;\n",
       "    }\n",
       "\n",
       "    .dataframe tbody tr th {\n",
       "        vertical-align: top;\n",
       "    }\n",
       "\n",
       "    .dataframe thead th {\n",
       "        text-align: right;\n",
       "    }\n",
       "</style>\n",
       "<table border=\"1\" class=\"dataframe\">\n",
       "  <thead>\n",
       "    <tr style=\"text-align: right;\">\n",
       "      <th></th>\n",
       "      <th>Day Index</th>\n",
       "      <th>Quantity</th>\n",
       "      <th>Clicks</th>\n",
       "      <th>Impressions</th>\n",
       "      <th>imputed_Quantity</th>\n",
       "    </tr>\n",
       "  </thead>\n",
       "  <tbody>\n",
       "    <tr>\n",
       "      <th>0</th>\n",
       "      <td>2021-12-01</td>\n",
       "      <td>14</td>\n",
       "      <td>445</td>\n",
       "      <td>620</td>\n",
       "      <td>14.00</td>\n",
       "    </tr>\n",
       "    <tr>\n",
       "      <th>1</th>\n",
       "      <td>2021-12-02</td>\n",
       "      <td>10</td>\n",
       "      <td>433</td>\n",
       "      <td>890</td>\n",
       "      <td>10.00</td>\n",
       "    </tr>\n",
       "    <tr>\n",
       "      <th>2</th>\n",
       "      <td>2021-12-03</td>\n",
       "      <td>13</td>\n",
       "      <td>424</td>\n",
       "      <td>851</td>\n",
       "      <td>13.00</td>\n",
       "    </tr>\n",
       "    <tr>\n",
       "      <th>3</th>\n",
       "      <td>2021-12-04</td>\n",
       "      <td>22</td>\n",
       "      <td>427</td>\n",
       "      <td>881</td>\n",
       "      <td>22.00</td>\n",
       "    </tr>\n",
       "    <tr>\n",
       "      <th>4</th>\n",
       "      <td>2021-12-05</td>\n",
       "      <td>33</td>\n",
       "      <td>451</td>\n",
       "      <td>678</td>\n",
       "      <td>30.67</td>\n",
       "    </tr>\n",
       "  </tbody>\n",
       "</table>\n",
       "</div>"
      ],
      "text/plain": [
       "   Day Index  Quantity  Clicks  Impressions  imputed_Quantity\n",
       "0 2021-12-01        14     445          620             14.00\n",
       "1 2021-12-02        10     433          890             10.00\n",
       "2 2021-12-03        13     424          851             13.00\n",
       "3 2021-12-04        22     427          881             22.00\n",
       "4 2021-12-05        33     451          678             30.67"
      ]
     },
     "execution_count": 18,
     "metadata": {},
     "output_type": "execute_result"
    }
   ],
   "source": [
    "df.head()"
   ]
  },
  {
   "cell_type": "markdown",
   "metadata": {},
   "source": [
    "Imputed_Quantity signifies the quantity column where outliers are set on 97th percentile."
   ]
  },
  {
   "cell_type": "code",
   "execution_count": 19,
   "metadata": {},
   "outputs": [],
   "source": [
    "df['imputed_Quantity'] = impute_outliers_97th_percentile(df['Quantity'])"
   ]
  },
  {
   "cell_type": "markdown",
   "metadata": {},
   "source": [
    "Log Tranformed attributes"
   ]
  },
  {
   "cell_type": "code",
   "execution_count": 20,
   "metadata": {},
   "outputs": [],
   "source": [
    "df['log_Quantity'] = np.log1p(df['Quantity'])\n",
    "df['log_Clicks'] = np.log1p(df['Clicks'])\n",
    "df['log_Impressions'] = np.log1p(df['Impressions'])"
   ]
  },
  {
   "cell_type": "markdown",
   "metadata": {},
   "source": [
    "Extract Month and Year"
   ]
  },
  {
   "cell_type": "code",
   "execution_count": 21,
   "metadata": {},
   "outputs": [],
   "source": [
    "df['YearMonth'] = df['Day Index'].dt.to_period('M')"
   ]
  },
  {
   "cell_type": "markdown",
   "metadata": {},
   "source": [
    "Extract Month Name"
   ]
  },
  {
   "cell_type": "code",
   "execution_count": 22,
   "metadata": {},
   "outputs": [],
   "source": [
    "df['MonthName'] = df['YearMonth'].dt.strftime('%B')\n",
    "month_order = ['December', 'January', 'February', 'March', 'April', 'May', 'June']  \n",
    "df['MonthName'] = pd.Categorical(df['MonthName'], categories=month_order, ordered=True)"
   ]
  },
  {
   "cell_type": "markdown",
   "metadata": {},
   "source": [
    "Extract day of the Week"
   ]
  },
  {
   "cell_type": "code",
   "execution_count": 23,
   "metadata": {},
   "outputs": [],
   "source": [
    "df['DayOfWeek'] = df['Day Index'].dt.day_name()\n",
    "week_order = ['Monday', 'Tuesday', 'Wednesday', 'Thursday', 'Friday', 'Saturday', 'Sunday']  \n",
    "df['DayOfWeek'] = pd.Categorical(df['DayOfWeek'], categories=week_order, ordered=True)"
   ]
  },
  {
   "cell_type": "markdown",
   "metadata": {},
   "source": [
    "Extract week of month"
   ]
  },
  {
   "cell_type": "code",
   "execution_count": 24,
   "metadata": {},
   "outputs": [],
   "source": [
    "def week_of_month(date):\n",
    "    first_day = date.replace(day=1)\n",
    "    dom = date.day\n",
    "    adjusted_dom = dom + first_day.weekday()\n",
    "    return int(np.ceil(adjusted_dom / 7.0))\n",
    "\n",
    "df['Week_of_Month'] = df['Day Index'].apply(week_of_month)"
   ]
  },
  {
   "cell_type": "markdown",
   "metadata": {},
   "source": [
    "Mapping weekdays and months into separate columns "
   ]
  },
  {
   "cell_type": "code",
   "execution_count": 25,
   "metadata": {},
   "outputs": [],
   "source": [
    "# Map weekdays and months to 1 where applicable\n",
    "df.loc[df['DayOfWeek'] == 'Monday', 'Weekday_Monday'] = 1\n",
    "df.loc[df['DayOfWeek'] == 'Tuesday', 'Weekday_Tuesday'] = 1\n",
    "df.loc[df['DayOfWeek'] == 'Wednesday', 'Weekday_Wednesday'] = 1\n",
    "df.loc[df['DayOfWeek'] == 'Thursday', 'Weekday_Thursday'] = 1\n",
    "df.loc[df['DayOfWeek'] == 'Friday', 'Weekday_Friday'] = 1\n",
    "df.loc[df['DayOfWeek'] == 'Saturday', 'Weekday_Saturday'] = 1\n",
    "df.loc[df['DayOfWeek'] == 'Sunday', 'Weekday_Sunday'] = 1\n",
    "\n",
    "df.loc[df['MonthName'] == 'January', 'Month_January'] = 1\n",
    "df.loc[df['MonthName'] == 'February', 'Month_February'] = 1\n",
    "df.loc[df['MonthName'] == 'March', 'Month_March'] = 1\n",
    "df.loc[df['MonthName'] == 'April', 'Month_April'] = 1\n",
    "df.loc[df['MonthName'] == 'May', 'Month_May'] = 1\n",
    "df.loc[df['MonthName'] == 'June', 'Month_June'] = 1\n",
    "df.loc[df['MonthName'] == 'July', 'Month_July'] = 1\n",
    "df.loc[df['MonthName'] == 'August', 'Month_August'] = 1\n",
    "df.loc[df['MonthName'] == 'September', 'Month_September'] = 1\n",
    "df.loc[df['MonthName'] == 'October', 'Month_October'] = 1\n",
    "df.loc[df['MonthName'] == 'November', 'Month_November'] = 1\n",
    "df.loc[df['MonthName'] == 'December', 'Month_December'] = 1"
   ]
  },
  {
   "cell_type": "markdown",
   "metadata": {},
   "source": [
    "replacing any NaN value with zero\n"
   ]
  },
  {
   "cell_type": "code",
   "execution_count": 26,
   "metadata": {},
   "outputs": [],
   "source": [
    "weekday_columns = ['Weekday_Monday', 'Weekday_Tuesday', 'Weekday_Wednesday', 'Weekday_Thursday',\n",
    "                   'Weekday_Friday', 'Weekday_Saturday', 'Weekday_Sunday']\n",
    "month_columns = ['Month_January', 'Month_February', 'Month_March', 'Month_April', 'Month_May',\n",
    "                 'Month_June', 'Month_July', 'Month_August', 'Month_September', 'Month_October',\n",
    "                 'Month_November', 'Month_December']\n",
    "\n",
    "# Fill NaNs with 0 for weekday and month columns\n",
    "df[weekday_columns] = df[weekday_columns].fillna(0)\n",
    "df[month_columns] = df[month_columns].fillna(0)\n"
   ]
  },
  {
   "cell_type": "markdown",
   "metadata": {},
   "source": [
    "final data"
   ]
  },
  {
   "cell_type": "code",
   "execution_count": 27,
   "metadata": {},
   "outputs": [
    {
     "data": {
      "text/plain": [
       "Index(['Day Index', 'Quantity', 'Clicks', 'Impressions', 'imputed_Quantity',\n",
       "       'log_Quantity', 'log_Clicks', 'log_Impressions', 'YearMonth',\n",
       "       'MonthName', 'DayOfWeek', 'Week_of_Month', 'Weekday_Monday',\n",
       "       'Weekday_Tuesday', 'Weekday_Wednesday', 'Weekday_Thursday',\n",
       "       'Weekday_Friday', 'Weekday_Saturday', 'Weekday_Sunday', 'Month_January',\n",
       "       'Month_February', 'Month_March', 'Month_April', 'Month_May',\n",
       "       'Month_June', 'Month_July', 'Month_August', 'Month_September',\n",
       "       'Month_October', 'Month_November', 'Month_December'],\n",
       "      dtype='object')"
      ]
     },
     "execution_count": 27,
     "metadata": {},
     "output_type": "execute_result"
    }
   ],
   "source": [
    "df.columns"
   ]
  },
  {
   "cell_type": "code",
   "execution_count": 28,
   "metadata": {},
   "outputs": [
    {
     "data": {
      "text/html": [
       "<div>\n",
       "<style scoped>\n",
       "    .dataframe tbody tr th:only-of-type {\n",
       "        vertical-align: middle;\n",
       "    }\n",
       "\n",
       "    .dataframe tbody tr th {\n",
       "        vertical-align: top;\n",
       "    }\n",
       "\n",
       "    .dataframe thead th {\n",
       "        text-align: right;\n",
       "    }\n",
       "</style>\n",
       "<table border=\"1\" class=\"dataframe\">\n",
       "  <thead>\n",
       "    <tr style=\"text-align: right;\">\n",
       "      <th></th>\n",
       "      <th>Day Index</th>\n",
       "      <th>Quantity</th>\n",
       "      <th>Clicks</th>\n",
       "      <th>Impressions</th>\n",
       "      <th>imputed_Quantity</th>\n",
       "      <th>log_Quantity</th>\n",
       "      <th>log_Clicks</th>\n",
       "      <th>log_Impressions</th>\n",
       "      <th>YearMonth</th>\n",
       "      <th>MonthName</th>\n",
       "      <th>...</th>\n",
       "      <th>Month_March</th>\n",
       "      <th>Month_April</th>\n",
       "      <th>Month_May</th>\n",
       "      <th>Month_June</th>\n",
       "      <th>Month_July</th>\n",
       "      <th>Month_August</th>\n",
       "      <th>Month_September</th>\n",
       "      <th>Month_October</th>\n",
       "      <th>Month_November</th>\n",
       "      <th>Month_December</th>\n",
       "    </tr>\n",
       "  </thead>\n",
       "  <tbody>\n",
       "    <tr>\n",
       "      <th>0</th>\n",
       "      <td>2021-12-01</td>\n",
       "      <td>14</td>\n",
       "      <td>445</td>\n",
       "      <td>620</td>\n",
       "      <td>14.00</td>\n",
       "      <td>2.708050</td>\n",
       "      <td>6.100319</td>\n",
       "      <td>6.431331</td>\n",
       "      <td>2021-12</td>\n",
       "      <td>December</td>\n",
       "      <td>...</td>\n",
       "      <td>0.0</td>\n",
       "      <td>0.0</td>\n",
       "      <td>0.0</td>\n",
       "      <td>0.0</td>\n",
       "      <td>0.0</td>\n",
       "      <td>0.0</td>\n",
       "      <td>0.0</td>\n",
       "      <td>0.0</td>\n",
       "      <td>0.0</td>\n",
       "      <td>1.0</td>\n",
       "    </tr>\n",
       "    <tr>\n",
       "      <th>1</th>\n",
       "      <td>2021-12-02</td>\n",
       "      <td>10</td>\n",
       "      <td>433</td>\n",
       "      <td>890</td>\n",
       "      <td>10.00</td>\n",
       "      <td>2.397895</td>\n",
       "      <td>6.073045</td>\n",
       "      <td>6.792344</td>\n",
       "      <td>2021-12</td>\n",
       "      <td>December</td>\n",
       "      <td>...</td>\n",
       "      <td>0.0</td>\n",
       "      <td>0.0</td>\n",
       "      <td>0.0</td>\n",
       "      <td>0.0</td>\n",
       "      <td>0.0</td>\n",
       "      <td>0.0</td>\n",
       "      <td>0.0</td>\n",
       "      <td>0.0</td>\n",
       "      <td>0.0</td>\n",
       "      <td>1.0</td>\n",
       "    </tr>\n",
       "    <tr>\n",
       "      <th>2</th>\n",
       "      <td>2021-12-03</td>\n",
       "      <td>13</td>\n",
       "      <td>424</td>\n",
       "      <td>851</td>\n",
       "      <td>13.00</td>\n",
       "      <td>2.639057</td>\n",
       "      <td>6.052089</td>\n",
       "      <td>6.747587</td>\n",
       "      <td>2021-12</td>\n",
       "      <td>December</td>\n",
       "      <td>...</td>\n",
       "      <td>0.0</td>\n",
       "      <td>0.0</td>\n",
       "      <td>0.0</td>\n",
       "      <td>0.0</td>\n",
       "      <td>0.0</td>\n",
       "      <td>0.0</td>\n",
       "      <td>0.0</td>\n",
       "      <td>0.0</td>\n",
       "      <td>0.0</td>\n",
       "      <td>1.0</td>\n",
       "    </tr>\n",
       "    <tr>\n",
       "      <th>3</th>\n",
       "      <td>2021-12-04</td>\n",
       "      <td>22</td>\n",
       "      <td>427</td>\n",
       "      <td>881</td>\n",
       "      <td>22.00</td>\n",
       "      <td>3.135494</td>\n",
       "      <td>6.059123</td>\n",
       "      <td>6.782192</td>\n",
       "      <td>2021-12</td>\n",
       "      <td>December</td>\n",
       "      <td>...</td>\n",
       "      <td>0.0</td>\n",
       "      <td>0.0</td>\n",
       "      <td>0.0</td>\n",
       "      <td>0.0</td>\n",
       "      <td>0.0</td>\n",
       "      <td>0.0</td>\n",
       "      <td>0.0</td>\n",
       "      <td>0.0</td>\n",
       "      <td>0.0</td>\n",
       "      <td>1.0</td>\n",
       "    </tr>\n",
       "    <tr>\n",
       "      <th>4</th>\n",
       "      <td>2021-12-05</td>\n",
       "      <td>33</td>\n",
       "      <td>451</td>\n",
       "      <td>678</td>\n",
       "      <td>30.67</td>\n",
       "      <td>3.526361</td>\n",
       "      <td>6.113682</td>\n",
       "      <td>6.520621</td>\n",
       "      <td>2021-12</td>\n",
       "      <td>December</td>\n",
       "      <td>...</td>\n",
       "      <td>0.0</td>\n",
       "      <td>0.0</td>\n",
       "      <td>0.0</td>\n",
       "      <td>0.0</td>\n",
       "      <td>0.0</td>\n",
       "      <td>0.0</td>\n",
       "      <td>0.0</td>\n",
       "      <td>0.0</td>\n",
       "      <td>0.0</td>\n",
       "      <td>1.0</td>\n",
       "    </tr>\n",
       "  </tbody>\n",
       "</table>\n",
       "<p>5 rows × 31 columns</p>\n",
       "</div>"
      ],
      "text/plain": [
       "   Day Index  Quantity  Clicks  Impressions  imputed_Quantity  log_Quantity  \\\n",
       "0 2021-12-01        14     445          620             14.00      2.708050   \n",
       "1 2021-12-02        10     433          890             10.00      2.397895   \n",
       "2 2021-12-03        13     424          851             13.00      2.639057   \n",
       "3 2021-12-04        22     427          881             22.00      3.135494   \n",
       "4 2021-12-05        33     451          678             30.67      3.526361   \n",
       "\n",
       "   log_Clicks  log_Impressions YearMonth MonthName  ... Month_March  \\\n",
       "0    6.100319         6.431331   2021-12  December  ...         0.0   \n",
       "1    6.073045         6.792344   2021-12  December  ...         0.0   \n",
       "2    6.052089         6.747587   2021-12  December  ...         0.0   \n",
       "3    6.059123         6.782192   2021-12  December  ...         0.0   \n",
       "4    6.113682         6.520621   2021-12  December  ...         0.0   \n",
       "\n",
       "   Month_April  Month_May  Month_June  Month_July  Month_August  \\\n",
       "0          0.0        0.0         0.0         0.0           0.0   \n",
       "1          0.0        0.0         0.0         0.0           0.0   \n",
       "2          0.0        0.0         0.0         0.0           0.0   \n",
       "3          0.0        0.0         0.0         0.0           0.0   \n",
       "4          0.0        0.0         0.0         0.0           0.0   \n",
       "\n",
       "   Month_September  Month_October  Month_November  Month_December  \n",
       "0              0.0            0.0             0.0             1.0  \n",
       "1              0.0            0.0             0.0             1.0  \n",
       "2              0.0            0.0             0.0             1.0  \n",
       "3              0.0            0.0             0.0             1.0  \n",
       "4              0.0            0.0             0.0             1.0  \n",
       "\n",
       "[5 rows x 31 columns]"
      ]
     },
     "execution_count": 28,
     "metadata": {},
     "output_type": "execute_result"
    }
   ],
   "source": [
    "df.head()"
   ]
  },
  {
   "cell_type": "markdown",
   "metadata": {},
   "source": [
    "exporting the final dataset for further analysis"
   ]
  },
  {
   "cell_type": "code",
   "execution_count": 29,
   "metadata": {},
   "outputs": [],
   "source": [
    "df.to_excel('../final_df.xlsx', index=False)   "
   ]
  }
 ],
 "metadata": {
  "kernelspec": {
   "display_name": "Python 3",
   "language": "python",
   "name": "python3"
  },
  "language_info": {
   "codemirror_mode": {
    "name": "ipython",
    "version": 3
   },
   "file_extension": ".py",
   "mimetype": "text/x-python",
   "name": "python",
   "nbconvert_exporter": "python",
   "pygments_lexer": "ipython3",
   "version": "3.11.2"
  }
 },
 "nbformat": 4,
 "nbformat_minor": 2
}
